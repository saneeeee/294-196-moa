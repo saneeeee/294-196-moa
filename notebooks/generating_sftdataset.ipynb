{
 "cells": [
  {
   "cell_type": "markdown",
   "metadata": {},
   "source": [
    "### Set api keys"
   ]
  },
  {
   "cell_type": "markdown",
   "metadata": {},
   "source": [
    "Setup before running this notebook\n",
    "1. Create a file called `.env` in this directory\n",
    "\n",
    "2. Write `OPENAI_API_KEY=\"Your Api Key\"` in the .env file\n",
    "\n",
    "3. Gitignore your `.env` file\n"
   ]
  },
  {
   "cell_type": "code",
   "execution_count": 1,
   "metadata": {},
   "outputs": [],
   "source": [
    "from dotenv import load_dotenv\n",
    "import os\n",
    "\n",
    "load_dotenv()\n",
    "OPENAI_API_KEY = os.getenv('OPENAI_API_KEY')"
   ]
  },
  {
   "cell_type": "code",
   "execution_count": 2,
   "metadata": {},
   "outputs": [],
   "source": [
    "from openai import OpenAI\n",
    "import re\n",
    "import json"
   ]
  },
  {
   "cell_type": "code",
   "execution_count": 3,
   "metadata": {},
   "outputs": [],
   "source": [
    "client = OpenAI(api_key=OPENAI_API_KEY)"
   ]
  },
  {
   "cell_type": "code",
   "execution_count": 4,
   "metadata": {},
   "outputs": [],
   "source": [
    "def append_txt_files(directory):\n",
    "    result = \"\"\n",
    "    for root, dirs, files in os.walk(directory):\n",
    "        for file in files:\n",
    "            if file.endswith(\".txt\"):\n",
    "                file_path = os.path.join(root, file)\n",
    "                with open(file_path, 'r') as f:\n",
    "                    result += f.read() + \"\\n\"\n",
    "    return result"
   ]
  },
  {
   "cell_type": "code",
   "execution_count": 5,
   "metadata": {},
   "outputs": [],
   "source": [
    "SYSTEM_PROMPT = \"\"\"\n",
    "You are a helpful assistant used for data processing. You have expert understanding of taking in\n",
    "chunks of textual data, first identifying all key facts in the text and generating question answer pairs for supervised fine tuning. You do not incorporate your own knowledge\n",
    "and only use factual information form the provided knowledge text.\"\"\""
   ]
  },
  {
   "cell_type": "code",
   "execution_count": 29,
   "metadata": {},
   "outputs": [],
   "source": [
    "USER_PROMPT = \"\"\"\n",
    "I want to create question answer pairs for the following knowledge text. First identify all key facts in the knowledge text \n",
    "(there is no set number, knowledge text might be short or long, make sure facts you have identified are strong and comprehensively cover the text).\n",
    "\n",
    "Next for each fact, propose all plausible questions a person might commonly ask a knowledgeable assitant, give answers grounded on the facts you have identified and knowledge text.\n",
    "Generate questions that people will commonly ask about this the given knowledge base.\n",
    "ake sure your answers to the questions are clear and comprehensive, the answers must simulate an expert clearly yet succintly provinding a factual answer.\n",
    "Make your answers medium length, but do not leave out important information, cover nuances relating to the question.\n",
    "\n",
    "   \n",
    "follow this line of reasoning and formatting:\n",
    "<example>\n",
    "<example_knowledge_text>\n",
    "1.035 Co-Owners (VC §§4150.5 and 9852.5)\n",
    "A vehicle or vessel may be owned by two or more co-owners. Co-owner names may be joined by “and”, “and/or”, or “or”. All owners mustendorse the title or registration application to register the vehicle/vessel, but the requirements for releasing ownership vary. Refer to Chapter 11.\n",
    "Certificates issued for applications not indicating “and” or “or” between the names will show “and” as represented by a slash (/) between the names.\n",
    "* The signatures of all owners are required to transfer ownership when the co-owner names are joined by “and”. Ownership passes to the surviving co-owner upon the death of a co-owner or, with the surviving co-owner’s release, to a new owner. A deceased co-owner’s interest may only be released by one of the following:\n",
    "   * Heir of the deceased with an Affidavit for Transfer Without Probate California Titled Vehicle or Vessels Only (REG 5) form.\n",
    "   * Administrator with Letters of Administration.\n",
    "   * Executor with Letters Testamentary.\n",
    "* The signature of only one owner is required to transfer ownership when the co-owner names are joined by “and/or” or “or”. A surviving co-owner’s signature on the title releases all owners’ interest unless “Tenants in Common” or “COMPRO” follows the co-owner’s names.\n",
    "* A REG 5 cannot be used to circumvent the interest of a surviving owner when the vehicles are jointly owned by two or more persons and one of the owners is deceased. However, the surviving owner (if they are the heir) may complete a REG 5 to release the interest of the deceased owner. The California Certificate of Title must be signed twice, once by surviving owner and once for the deceased owner countersigned by the heir. If owned jointly by two or more deceased owners, a REG 5 for the most recently deceased owner and a death certificate for each owner is required.\n",
    "Tenants in Common—When “Tenants in Common” follows the names of co-owners, the interest of a deceased co-owner reverts to the deceased co-owner’s estate, not to the surviving co-owner. Ownership may be transferred with Letters Testamentary, Letters of Administration, or an Affidavit for Transfer Without Probate California Titled Vehicle or Vessels Only (REG 5) form.\n",
    "COMPRO—When “COMPRO” (community property) follows the names of co-owners, ownership passes to the surviving owner after the deceased co-owner’s interest is executed by the:\n",
    "* Heir of the deceased with a REG 5, if the estate was not probated.\n",
    "* Administrator of the estate with Letters of Administration.\n",
    "* Executor of the estate with Letters Testamentary.\n",
    "Ownership may be transferred to a new owner with the surviving co-owner’s release.\n",
    "JTRS—When “JTRS” (joint tenants with right of survivorship) follows the names of co-owners:\n",
    "* All owners must release interest during the lifetime of the co-owners.\n",
    "* Upon the death of an owner, interest is released by the surviving co-owner.\n",
    "* A copy of the deceased owner’s death certificate must accompany the application.\n",
    "* The signature of the surviving co-owner(s) on the title releases all owner interests.\n",
    "TOD (Transfer on Death)—Refer to Chapter 11.\n",
    "<end_example_knowledge_text>\n",
    "<example_qa_pair>\n",
    "FACT 1: A vehicle or vessel may be owned by two or more co-owners\n",
    "[{{'role': 'user', 'content': 'Can I register a car to multiple users in California'}},\n",
    "{{'role': 'assistant', 'content': 'Yes, you can register a car under multiple owners in California. The state allows co-ownership with different options like \"and,\" \"or,\" or \"and/or\" between names, which affects how ownership transfers work. All co-owners need to sign the initial registration, but transfer requirements vary. There are also special rules for situations like when an owner passes away or for specific ownership types like community property. The key is to choose the right co-ownership option that fits your situation, as it'll determine things like whether you need all owners to sign off on a sale or just one.'}}]\n",
    "<end_example_qa_pair>\n",
    "<end_example>\n",
    "\n",
    "Follow the template provided in the example, however give as many questions as needed for each fact, can range from 1 to many. You may also ask propose follow up questions.\n",
    "Make sure you totally cover all fundamental questions about each fact, including different options, clarification of terms, explanation of complex points etc\n",
    "\n",
    "The goal is to identify as many key facts as possible and generate as many questions answer pairs for each fact to be very comprehensive.\n",
    "\n",
    "so outputs will follow the structure\n",
    "FACT 1:\n",
    "[{{\"role\": \"user\", \"content:\" \"...\"}}, {{\"role\": \"assistant\", \"content:\" \"...\"}}]\n",
    "[{{\"role\": \"user\", \"content:\" \"...\"}}, {{\"role\": \"assistant\", \"content:\" \"...\"}}]\n",
    "(possibly many more question answer pairs)\n",
    "...\n",
    "\n",
    "FACT 2:\n",
    "....\n",
    "(possibly many more facts)\n",
    "\n",
    "<knowledge_text>\n",
    "\"\"\""
   ]
  },
  {
   "cell_type": "code",
   "execution_count": 30,
   "metadata": {},
   "outputs": [],
   "source": [
    "def user_prompt_for(scrape_file):\n",
    "    knowledge_base = ''\n",
    "    with open(scrape_file, 'r') as f:\n",
    "        knowledge_base += f.read() + \"\\n\"\n",
    "    return USER_PROMPT.format(100) + knowledge_base + \"\\n<end_knowledge_text>\""
   ]
  },
  {
   "cell_type": "code",
   "execution_count": 31,
   "metadata": {},
   "outputs": [
    {
     "name": "stdout",
     "output_type": "stream",
     "text": [
      "\n",
      "I want to create question answer pairs for the following knowledge text. First identify all key facts in the knowledge text \n",
      "(there is no set number, knowledge text might be short or long, make sure facts you have identified are strong and comprehensively cover the text).\n",
      "\n",
      "Next for each fact, propose all plausible questions a person might commonly ask a knowledgeable assitant, give answers grounded on the facts you have identified and knowledge text.\n",
      "Generate questions that people will commonly ask about this the given knowledge base.\n",
      "ake sure your answers to the questions are clear and comprehensive, the answers must simulate an expert clearly yet succintly provinding a factual answer.\n",
      "Make your answers medium length, but do not leave out important information, cover nuances relating to the question.\n",
      "\n",
      "   \n",
      "follow this line of reasoning and formatting:\n",
      "<example>\n",
      "<example_knowledge_text>\n",
      "1.035 Co-Owners (VC §§4150.5 and 9852.5)\n",
      "A vehicle or vessel may be owned by two or more co-owners. Co-owner names may be joined by “and”, “and/or”, or “or”. All owners mustendorse the title or registration application to register the vehicle/vessel, but the requirements for releasing ownership vary. Refer to Chapter 11.\n",
      "Certificates issued for applications not indicating “and” or “or” between the names will show “and” as represented by a slash (/) between the names.\n",
      "* The signatures of all owners are required to transfer ownership when the co-owner names are joined by “and”. Ownership passes to the surviving co-owner upon the death of a co-owner or, with the surviving co-owner’s release, to a new owner. A deceased co-owner’s interest may only be released by one of the following:\n",
      "   * Heir of the deceased with an Affidavit for Transfer Without Probate California Titled Vehicle or Vessels Only (REG 5) form.\n",
      "   * Administrator with Letters of Administration.\n",
      "   * Executor with Letters Testamentary.\n",
      "* The signature of only one owner is required to transfer ownership when the co-owner names are joined by “and/or” or “or”. A surviving co-owner’s signature on the title releases all owners’ interest unless “Tenants in Common” or “COMPRO” follows the co-owner’s names.\n",
      "* A REG 5 cannot be used to circumvent the interest of a surviving owner when the vehicles are jointly owned by two or more persons and one of the owners is deceased. However, the surviving owner (if they are the heir) may complete a REG 5 to release the interest of the deceased owner. The California Certificate of Title must be signed twice, once by surviving owner and once for the deceased owner countersigned by the heir. If owned jointly by two or more deceased owners, a REG 5 for the most recently deceased owner and a death certificate for each owner is required.\n",
      "Tenants in Common—When “Tenants in Common” follows the names of co-owners, the interest of a deceased co-owner reverts to the deceased co-owner’s estate, not to the surviving co-owner. Ownership may be transferred with Letters Testamentary, Letters of Administration, or an Affidavit for Transfer Without Probate California Titled Vehicle or Vessels Only (REG 5) form.\n",
      "COMPRO—When “COMPRO” (community property) follows the names of co-owners, ownership passes to the surviving owner after the deceased co-owner’s interest is executed by the:\n",
      "* Heir of the deceased with a REG 5, if the estate was not probated.\n",
      "* Administrator of the estate with Letters of Administration.\n",
      "* Executor of the estate with Letters Testamentary.\n",
      "Ownership may be transferred to a new owner with the surviving co-owner’s release.\n",
      "JTRS—When “JTRS” (joint tenants with right of survivorship) follows the names of co-owners:\n",
      "* All owners must release interest during the lifetime of the co-owners.\n",
      "* Upon the death of an owner, interest is released by the surviving co-owner.\n",
      "* A copy of the deceased owner’s death certificate must accompany the application.\n",
      "* The signature of the surviving co-owner(s) on the title releases all owner interests.\n",
      "TOD (Transfer on Death)—Refer to Chapter 11.\n",
      "<end_example_knowledge_text>\n",
      "<example_qa_pair>\n",
      "FACT 1: A vehicle or vessel may be owned by two or more co-owners\n",
      "[{'role': 'user', 'content': 'Can I register a car to multiple users in California'},\n",
      "{'role': 'assistant', 'content': 'Yes, you can register a car under multiple owners in California. The state allows co-ownership with different options like \"and,\" \"or,\" or \"and/or\" between names, which affects how ownership transfers work. All co-owners need to sign the initial registration, but transfer requirements vary. There are also special rules for situations like when an owner passes away or for specific ownership types like community property. The key is to choose the right co-ownership option that fits your situation, as it'll determine things like whether you need all owners to sign off on a sale or just one.'}]\n",
      "<end_example_qa_pair>\n",
      "<end_example>\n",
      "\n",
      "Follow the template provided in the example, however give as many questions as needed for each fact, can range from 1 to many. You may also ask propose follow up questions.\n",
      "Make sure you totally cover all fundamental questions about each fact, including different options, clarification of terms, explanation of complex points etc\n",
      "\n",
      "The goal is to identify as many key facts as possible and generate as many questions answer pairs for each fact to be very comprehensive.\n",
      "\n",
      "so outputs will follow the structure\n",
      "FACT 1:\n",
      "[{\"role\": \"user\", \"content:\" \"...\"}, {\"role\": \"assistant\", \"content:\" \"...\"}]\n",
      "[{\"role\": \"user\", \"content:\" \"...\"}, {\"role\": \"assistant\", \"content:\" \"...\"}]\n",
      "(possibly many more question answer pairs)\n",
      "...\n",
      "\n",
      "FACT 2:\n",
      "....\n",
      "(possibly many more facts)\n",
      "\n",
      "<knowledge_text>\n",
      "### 1.035 Co-Owners (VC §§4150.5 and 9852.5)\n",
      "\n",
      "A vehicle or vessel may be owned by two or more co-owners. Co-owner names may be joined by “and”, “and/or”, or “or”. All owners must endorse the title or registration application to register the vehicle/vessel, but the requirements for releasing ownership vary. Refer to Chapter 11.\n",
      "\n",
      "Certificates issued for applications not indicating “and” or “or” between the names will show “and” as represented by a slash (/) between the names.\n",
      "\n",
      "• The signatures of all owners are required to transfer ownership when the co-owner names are joined by “and”. Ownership passes to the surviving co-owner upon the death of a co-owner or, with the surviving co-owner’s release, to a new owner. A deceased co-owner’s interest may only be released by one of the following:\n",
      "\n",
      "Heir of the deceased with an Affidavit for Transfer Without Probate California Titled Vehicle or Vessels Only (REG 5) form.\n",
      "Administrator with Letters of Administration.\n",
      "Executor with Letters Testamentary.\n",
      "\n",
      "• Heir of the deceased with an Affidavit for Transfer Without Probate California Titled Vehicle or Vessels Only (REG 5) form.\n",
      "\n",
      "• Administrator with Letters of Administration.\n",
      "\n",
      "• Executor with Letters Testamentary.\n",
      "\n",
      "• The signature of only one owner is required to transfer ownership when the co-owner names are joined by “and/or” or “or”. A surviving co-owner’s signature on the title releases all owners’ interest unless “Tenants in Common” or “COMPRO” follows the co-owner’s names.\n",
      "\n",
      "• A REG 5 cannot be used to circumvent the interest of a surviving owner when the vehicles are jointly owned by two or more persons and one of the owners is deceased. However, the surviving owner (if they are the heir) may complete a REG 5 to release the interest of the deceased owner. The California Certificate of Title must be signed twice, once by surviving owner and once for the deceased owner countersigned by the heir. If owned jointly by two or more deceased owners, a REG 5 for the most recently deceased owner and a death certificate for each owner is required.\n",
      "\n",
      "• Heir of the deceased with an Affidavit for Transfer Without Probate California Titled Vehicle or Vessels Only (REG 5) form.\n",
      "\n",
      "• Administrator with Letters of Administration.\n",
      "\n",
      "• Executor with Letters Testamentary.\n",
      "\n",
      "Tenants in Common—When “Tenants in Common” follows the names of co-owners, the interest of a deceased co-owner reverts to the deceased co-owner’s estate, not to the surviving co-owner. Ownership may be transferred with Letters Testamentary, Letters of Administration, or an Affidavit for Transfer Without Probate California Titled Vehicle or Vessels Only (REG 5) form.\n",
      "\n",
      "COMPRO—When “COMPRO” (community property) follows the names of co-owners, ownership passes to the surviving owner after the deceased co-owner’s interest is executed by the:\n",
      "\n",
      "• Heir of the deceased with a REG 5, if the estate was not probated.\n",
      "\n",
      "• Administrator of the estate with Letters of Administration.\n",
      "\n",
      "• Executor of the estate with Letters Testamentary.\n",
      "\n",
      "Ownership may be transferred to a new owner with the surviving co-owner’s release.\n",
      "\n",
      "JTRS—When “JTRS” (joint tenants with right of survivorship) follows the namesof co-owners:\n",
      "\n",
      "• All owners must release interest during the lifetime of the co-owners.\n",
      "\n",
      "• Upon the death of an owner, interest is released by the surviving co-owner.\n",
      "\n",
      "• A copy of the deceased owner’s death certificate must accompany the application.\n",
      "\n",
      "• The signature of the surviving co-owner(s) on the title releases all owner interests.\n",
      "\n",
      "TOD (Transfer on Death)—Refer to Chapter 11.\n",
      "\n",
      "<end_knowledge_text>\n"
     ]
    }
   ],
   "source": [
    "print(user_prompt_for(\"../dataset/ch01/sec08.txt\"))"
   ]
  },
  {
   "cell_type": "code",
   "execution_count": 59,
   "metadata": {},
   "outputs": [],
   "source": [
    "def sft_qa_pairs(scrape_file):\n",
    "    user_prompt = user_prompt_for(scrape_file)\n",
    "    completion = client.chat.completions.create(\n",
    "        model=\"gpt-4o-mini\",\n",
    "        messages=[\n",
    "            {\"role\": \"system\", \"content\": SYSTEM_PROMPT},\n",
    "            {\n",
    "                \"role\": \"user\",\n",
    "                \"content\": user_prompt\n",
    "            }\n",
    "        ]\n",
    "    )\n",
    "    content = completion.choices[0].message.content\n",
    "    pattern = r'(\\[{.*?}\\])'\n",
    "    matches = re.findall(pattern, content, re.DOTALL)\n",
    "    split = [match.strip() for match in matches]\n",
    "    parsed_result = [json.loads(item) for item in split]\n",
    "    return completion, parsed_result"
   ]
  },
  {
   "cell_type": "markdown",
   "metadata": {},
   "source": [
    "Large text example, 2,007 input tokens and 1,100 output tokens"
   ]
  },
  {
   "cell_type": "code",
   "execution_count": 60,
   "metadata": {},
   "outputs": [],
   "source": [
    "completion, parsed_result = sft_qa_pairs(\"../dataset/ch01/sec08.txt\")"
   ]
  },
  {
   "cell_type": "code",
   "execution_count": 61,
   "metadata": {},
   "outputs": [
    {
     "name": "stdout",
     "output_type": "stream",
     "text": [
      "FACT 1: A vehicle or vessel may be owned by two or more co-owners.  \n",
      "[{\"role\": \"user\", \"content\": \"Can multiple people own a vehicle in California?\"}, {\"role\": \"assistant\", \"content\": \"Yes, in California, a vehicle or vessel can be owned by two or more co-owners. The names of the co-owners can be connected by 'and', 'and/or', or 'or', which influences how ownership is managed and transferred.\"}]  \n",
      "[{\"role\": \"user\", \"content\": \"What are the ways I can register a car with multiple owners?\"}, {\"role\": \"assistant\", \"content\": \"You can register a car with multiple owners by using the terms 'and', 'and/or', or 'or' between the names on the registration application. Each choice has different implications for how ownership rights operate.\"}]  \n",
      "\n",
      "FACT 2: All owners must endorse the title or registration application to register the vehicle/vessel.  \n",
      "[{\"role\": \"user\", \"content\": \"Do all owners need to sign to register a vehicle?\"}, {\"role\": \"assistant\", \"content\": \"Yes, all co-owners are required to sign the title or registration application in order to successfully register a vehicle or vessel in California.\"}]  \n",
      "\n",
      "FACT 3: The signature of all owners is required to transfer ownership when co-owner names are joined by “and.”  \n",
      "[{\"role\": \"user\", \"content\": \"What happens to vehicle ownership if two people own a vehicle together and one of them dies?\"}, {\"role\": \"assistant\", \"content\": \"If co-owners are joined by 'and', ownership passes to the surviving co-owner upon the death of a co-owner. All signatures are required to transfer ownership.\"}]  \n",
      "[{\"role\": \"user\", \"content\": \"Can I transfer my interest in a vehicle if the co-owner is deceased?\"}, {\"role\": \"assistant\", \"content\": \"Yes, to transfer interest when a co-owner has died, the transfer can only be made by heirs using specific forms, such as the Affidavit for Transfer Without Probate (REG 5), or through an administrator or executor, depending on the situation.\"}]  \n",
      "\n",
      "FACT 4: The signature of only one owner is required when co-owner names are joined by “and/or” or “or.”  \n",
      "[{\"role\": \"user\", \"content\": \"If I co-own a vehicle with someone and our names are connected by 'or', can I sell my share alone?\"}, {\"role\": \"assistant\", \"content\": \"Yes, if your names are connected by 'or', you only need your signature to transfer ownership. The surviving co-owner's signature releases the interests of all owners unless specific terms indicate otherwise.\"}]  \n",
      "\n",
      "FACT 5: Special rules exist for the use of REG 5 forms for transferring ownership.  \n",
      "[{\"role\": \"user\", \"content\": \"What is a REG 5 form and when can it be used?\"}, {\"role\": \"assistant\", \"content\": \"A REG 5 form, or Affidavit for Transfer Without Probate, can be used to transfer a deceased co-owner's interest under certain conditions. However, it cannot be used to bypass the interests of a surviving owner when ownership was shared jointly and one owner has passed away.\"}]  \n",
      "[{\"role\": \"user\", \"content\": \"Can the surviving owner use REG 5 to transfer the interest of a deceased owner?\"}, {\"role\": \"assistant\", \"content\": \"In cases where the deceased co-owner’s interest needs to be released, the surviving owner, if they are an heir, can use the REG 5 form but they still need to sign as the surviving owner and also provide the deceased owner’s signature countersigned by the heir.\"}]  \n",
      "\n",
      "FACT 6: Different ownership types (like Tenants in Common, COMPRO, and JTRS) affect ownership transfer.  \n",
      "[{\"role\": \"user\", \"content\": \"What is the difference between Tenants in Common and JTRS?\"}, {\"role\": \"assistant\", \"content\": \"In a Tenants in Common arrangement, the interest of a deceased co-owner goes to their estate rather than the surviving owner, requiring special documentation for transfers. In contrast, with JTRS (joint tenants with right of survivorship), ownership automatically passes to the surviving co-owner upon death, and a death certificate must be presented.\"}]  \n",
      "[{\"role\": \"user\", \"content\": \"How does community property (COMPRO) work in vehicle ownership?\"}, {\"role\": \"assistant\", \"content\": \"When co-owners are designated as community property (COMPRO), upon the death of one owner, the surviving owner's rights become effective as the deceased owner's interest is transferred either through a REG 5 if the estate was not probated or through legal documentation such as Letters of Administration or Testamentary.\"}]  \n",
      "\n",
      "FACT 7: A copy of the deceased owner’s death certificate must accompany applications for transfer when co-owners are JTRS.  \n",
      "[{\"role\": \"user\", \"content\": \"Is there a documentation requirement when one owner dies under JTRS?\"}, {\"role\": \"assistant\", \"content\": \"Yes, when transferring ownership under JTRS, you must provide a copy of the deceased owner's death certificate along with the application for transfer.\"}]  \n"
     ]
    }
   ],
   "source": [
    "print(completion.choices[0].message.content)"
   ]
  },
  {
   "cell_type": "code",
   "execution_count": 57,
   "metadata": {},
   "outputs": [
    {
     "name": "stdout",
     "output_type": "stream",
     "text": [
      "[[{'role': 'user', 'content': 'Can I register a car under multiple names in California?'}, {'role': 'assistant', 'content': \"Yes, in California, a vehicle or vessel can be owned by two or more co-owners. The names of the co-owners can be joined by 'and', 'and/or', or 'or', depending on how you want ownership to be structured.\"}], [{'role': 'user', 'content': 'What happens if I register a vehicle with co-owners?'}, {'role': 'assistant', 'content': \"When you register a vehicle with co-owners, all co-owners must sign the title or registration application. The type of conjunction you use between their names ('and', 'and/or', or 'or') determines the rules for transferring ownership.\"}], [{'role': 'user', 'content': \"What do the terms 'and', 'and/or', and 'or' mean in a co-ownership context?\"}, {'role': 'assistant', 'content': \"'And' means all owners must sign for any transfer of ownership. 'And/or' or 'or' means that only one owner's signature is needed for a transfer. This affects how ownership is released upon the death of a co-owner as well.\"}], [{'role': 'user', 'content': 'Do the different conjunctions change the ownership transfer rules?'}, {'role': 'assistant', 'content': \"Yes, they do. For names joined by 'and', all owners must agree and sign for a transfer. For names joined by 'and/or' or 'or', only one owner’s signature is necessary for the transfer.\"}], [{'role': 'user', 'content': \"What is required to transfer ownership when co-owners are joined by 'and'?\"}, {'role': 'assistant', 'content': \"When co-owners are joined by 'and', the signatures of all co-owners are required for the ownership transfer. This ensures that all parties are in agreement regarding the transaction.\"}], [{'role': 'user', 'content': 'What happens to ownership if one co-owner dies?'}, {'role': 'assistant', 'content': \"If ownership is joined by 'and' and one co-owner dies, the ownership automatically passes to the surviving co-owner. However, if they wish to transfer it further, the surviving co-owner must sign to release their interest.\"}], [{'role': 'user', 'content': 'Who can release the interest of a deceased co-owner?'}, {'role': 'assistant', 'content': 'The interest of a deceased co-owner can be released by the heir of the deceased using an Affidavit for Transfer Without Probate (REG 5), the administrator of the estate with Letters of Administration, or the executor with Letters Testamentary.'}], [{'role': 'user', 'content': \"Is an Affidavit for Transfer Without Probate necessary for transferring a deceased co-owner's interest?\"}, {'role': 'assistant', 'content': \"Yes, an REG 5 Affidavit is required to transfer the deceased co-owner's interest unless the transfer is being executed by the administrator or executor, who will use the appropriate documentation.\"}], [{'role': 'user', 'content': \"How does the transfer process differ when names are joined by 'and/or'?\"}, {'role': 'assistant', 'content': \"When co-owner names are joined by 'and/or', only one owner's signature is required to transfer ownership. This simplifies the process since not all co-owners need to agree for a sale or transfer.\"}], [{'role': 'user', 'content': \"What does it mean if my title says 'or' between co-owner names?\"}, {'role': 'assistant', 'content': \"If 'or' is used between co-owner names, it signifies that any one of the co-owners can independently execute a transfer of ownership without the need for signatures from the other owners.\"}], [{'role': 'user', 'content': \"What is the significance of 'Tenants in Common' for co-owners?\"}, {'role': 'assistant', 'content': \"'Tenants in Common' means that if a co-owner dies, their interest does not automatically pass to the surviving co-owner but instead reverts to their estate. This requires legal documentation to transfer ownership from the deceased's estate.\"}], [{'role': 'user', 'content': \"What does 'COMPRO' mean in terms of ownership?\"}, {'role': 'assistant', 'content': \"'COMPRO' stands for community property. When this designation is used, the interest of a deceased co-owner automatically passes to the surviving owner without going through probate, provided they have the necessary documentation to release the deceased's interest.\"}], [{'role': 'user', 'content': 'How does JTRS affect ownership transfer?'}, {'role': 'assistant', 'content': \"Joint Tenants with Right of Survivorship (JTRS) allows all owners to transfer interest during their lifetime. Upon an owner's death, the surviving co-owner can transfer the deceased's interest, but they must provide a death certificate with the application for transfer.\"}]]\n"
     ]
    }
   ],
   "source": [
    "print(parsed_result)"
   ]
  },
  {
   "cell_type": "code",
   "execution_count": 53,
   "metadata": {},
   "outputs": [
    {
     "name": "stdout",
     "output_type": "stream",
     "text": [
      "Can I register a car under multiple names in California?\n"
     ]
    }
   ],
   "source": [
    "print(parsed_result[0][0][\"content\"])"
   ]
  },
  {
   "cell_type": "code",
   "execution_count": 56,
   "metadata": {},
   "outputs": [
    {
     "name": "stdout",
     "output_type": "stream",
     "text": [
      "QUESTION: Can I register a car under multiple names in California?\n",
      "ANSWER: Yes, in California, a vehicle or vessel can be owned by two or more co-owners. The names of the co-owners can be joined by 'and', 'and/or', or 'or', depending on how you want ownership to be structured.\n",
      "\n",
      "\n",
      "QUESTION: What happens if I register a vehicle with co-owners?\n",
      "ANSWER: When you register a vehicle with co-owners, all co-owners must sign the title or registration application. The type of conjunction you use between their names ('and', 'and/or', or 'or') determines the rules for transferring ownership.\n",
      "\n",
      "\n",
      "QUESTION: What do the terms 'and', 'and/or', and 'or' mean in a co-ownership context?\n",
      "ANSWER: 'And' means all owners must sign for any transfer of ownership. 'And/or' or 'or' means that only one owner's signature is needed for a transfer. This affects how ownership is released upon the death of a co-owner as well.\n",
      "\n",
      "\n",
      "QUESTION: Do the different conjunctions change the ownership transfer rules?\n",
      "ANSWER: Yes, they do. For names joined by 'and', all owners must agree and sign for a transfer. For names joined by 'and/or' or 'or', only one owner’s signature is necessary for the transfer.\n",
      "\n",
      "\n",
      "QUESTION: What is required to transfer ownership when co-owners are joined by 'and'?\n",
      "ANSWER: When co-owners are joined by 'and', the signatures of all co-owners are required for the ownership transfer. This ensures that all parties are in agreement regarding the transaction.\n",
      "\n",
      "\n",
      "QUESTION: What happens to ownership if one co-owner dies?\n",
      "ANSWER: If ownership is joined by 'and' and one co-owner dies, the ownership automatically passes to the surviving co-owner. However, if they wish to transfer it further, the surviving co-owner must sign to release their interest.\n",
      "\n",
      "\n",
      "QUESTION: Who can release the interest of a deceased co-owner?\n",
      "ANSWER: The interest of a deceased co-owner can be released by the heir of the deceased using an Affidavit for Transfer Without Probate (REG 5), the administrator of the estate with Letters of Administration, or the executor with Letters Testamentary.\n",
      "\n",
      "\n",
      "QUESTION: Is an Affidavit for Transfer Without Probate necessary for transferring a deceased co-owner's interest?\n",
      "ANSWER: Yes, an REG 5 Affidavit is required to transfer the deceased co-owner's interest unless the transfer is being executed by the administrator or executor, who will use the appropriate documentation.\n",
      "\n",
      "\n",
      "QUESTION: How does the transfer process differ when names are joined by 'and/or'?\n",
      "ANSWER: When co-owner names are joined by 'and/or', only one owner's signature is required to transfer ownership. This simplifies the process since not all co-owners need to agree for a sale or transfer.\n",
      "\n",
      "\n",
      "QUESTION: What does it mean if my title says 'or' between co-owner names?\n",
      "ANSWER: If 'or' is used between co-owner names, it signifies that any one of the co-owners can independently execute a transfer of ownership without the need for signatures from the other owners.\n",
      "\n",
      "\n",
      "QUESTION: What is the significance of 'Tenants in Common' for co-owners?\n",
      "ANSWER: 'Tenants in Common' means that if a co-owner dies, their interest does not automatically pass to the surviving co-owner but instead reverts to their estate. This requires legal documentation to transfer ownership from the deceased's estate.\n",
      "\n",
      "\n",
      "QUESTION: What does 'COMPRO' mean in terms of ownership?\n",
      "ANSWER: 'COMPRO' stands for community property. When this designation is used, the interest of a deceased co-owner automatically passes to the surviving owner without going through probate, provided they have the necessary documentation to release the deceased's interest.\n",
      "\n",
      "\n",
      "QUESTION: How does JTRS affect ownership transfer?\n",
      "ANSWER: Joint Tenants with Right of Survivorship (JTRS) allows all owners to transfer interest during their lifetime. Upon an owner's death, the surviving co-owner can transfer the deceased's interest, but they must provide a death certificate with the application for transfer.\n",
      "\n",
      "\n"
     ]
    }
   ],
   "source": [
    "for i in parsed_result: \n",
    "    print(\"QUESTION:\", i[0][\"content\"])\n",
    "    print(\"ANSWER:\", i[1][\"content\"])\n",
    "    print()\n",
    "    print()"
   ]
  },
  {
   "cell_type": "markdown",
   "metadata": {},
   "source": [
    "Small Text Example"
   ]
  },
  {
   "cell_type": "code",
   "execution_count": 58,
   "metadata": {},
   "outputs": [
    {
     "name": "stdout",
     "output_type": "stream",
     "text": [
      "QUESTION: Can I submit vehicle registration documents with a sticker or label on them?\n",
      "ANSWER: No, you cannot submit vehicle registration documents that have any kind of adhesive label. It is required to remove the label before submission.\n",
      "\n",
      "\n",
      "QUESTION: What should I do if my registration document has an adhesive label?\n",
      "ANSWER: If your registration document has an adhesive label, you should remove it and either submit a new document or a correct form depending on the condition of the title after the label is removed.\n",
      "\n",
      "\n",
      "QUESTION: What forms do I need to submit if I remove a label from a registration document?\n",
      "ANSWER: You will need to submit either a Statement to Record Ownership / Statement of Error or Erasure (REG 101) form or an Application for Replacement or Transfer of Title (REG 227) form, based on the condition of the title after the label is removed.\n",
      "\n",
      "\n",
      "QUESTION: What happens if I submit a registration form with an adhesive label?\n",
      "ANSWER: Submitting a registration document that contains an adhesive label could lead to rejection of your submission. It is crucial to ensure that the document is free of any labels before presenting it.\n",
      "\n",
      "\n",
      "QUESTION: Is there any exception to the adhesive label rule for vehicle registration documents?\n",
      "ANSWER: No, there are no exceptions regarding the rule against adhesive labels on vehicle registration documents. All labels must be removed prior to submission.\n",
      "\n",
      "\n"
     ]
    }
   ],
   "source": [
    "completion, parsed_result = sft_qa_pairs(\"../dataset/ch01/sec02.txt\")\n",
    "for i in parsed_result: \n",
    "    print(\"QUESTION:\", i[0][\"content\"])\n",
    "    print(\"ANSWER:\", i[1][\"content\"])\n",
    "    print()\n",
    "    print()"
   ]
  },
  {
   "cell_type": "code",
   "execution_count": null,
   "metadata": {},
   "outputs": [],
   "source": []
  }
 ],
 "metadata": {
  "kernelspec": {
   "display_name": "llama",
   "language": "python",
   "name": "python3"
  },
  "language_info": {
   "codemirror_mode": {
    "name": "ipython",
    "version": 3
   },
   "file_extension": ".py",
   "mimetype": "text/x-python",
   "name": "python",
   "nbconvert_exporter": "python",
   "pygments_lexer": "ipython3",
   "version": "3.11.9"
  }
 },
 "nbformat": 4,
 "nbformat_minor": 2
}
