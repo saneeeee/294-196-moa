{
 "cells": [
  {
   "cell_type": "code",
   "execution_count": 3,
   "metadata": {},
   "outputs": [
    {
     "name": "stdout",
     "output_type": "stream",
     "text": [
      "Requirement already satisfied: typing_extensions in /accounts/grad/phudish_p/.conda/envs/llama/lib/python3.11/site-packages (4.8.0)\n",
      "Collecting typing_extensions\n",
      "  Downloading typing_extensions-4.12.2-py3-none-any.whl.metadata (3.0 kB)\n",
      "Downloading typing_extensions-4.12.2-py3-none-any.whl (37 kB)\n",
      "Installing collected packages: typing_extensions\n",
      "  Attempting uninstall: typing_extensions\n",
      "    Found existing installation: typing_extensions 4.8.0\n",
      "    Uninstalling typing_extensions-4.8.0:\n",
      "      Successfully uninstalled typing_extensions-4.8.0\n",
      "\u001b[31mERROR: pip's dependency resolver does not currently take into account all the packages that are installed. This behaviour is the source of the following dependency conflicts.\n",
      "tensorflow 2.16.1 requires google-pasta>=0.1.1, which is not installed.\n",
      "tensorflow 2.16.1 requires libclang>=13.0.0, which is not installed.\n",
      "tensorflow 2.16.1 requires tensorflow-io-gcs-filesystem>=0.23.1; python_version < \"3.12\", which is not installed.\n",
      "tensorflow 2.16.1 requires ml-dtypes~=0.3.1, but you have ml-dtypes 0.2.0 which is incompatible.\n",
      "mergekit 0.0.4.2 requires accelerate~=0.27.2, but you have accelerate 0.34.2 which is incompatible.\n",
      "mergekit 0.0.4.2 requires pydantic==2.6.2, but you have pydantic 2.9.2 which is incompatible.\n",
      "mergekit 0.0.4.2 requires tqdm==4.66.2, but you have tqdm 4.66.5 which is incompatible.\n",
      "llama-recipes 0.0.4.post1 requires typing-extensions==4.8.0, but you have typing-extensions 4.12.2 which is incompatible.\u001b[0m\u001b[31m\n",
      "\u001b[0mSuccessfully installed typing_extensions-4.12.2\n"
     ]
    }
   ],
   "source": [
    "!pip install --upgrade typing_extensions"
   ]
  },
  {
   "cell_type": "code",
   "execution_count": null,
   "metadata": {},
   "outputs": [],
   "source": []
  }
 ],
 "metadata": {
  "kernelspec": {
   "display_name": "llama",
   "language": "python",
   "name": "python3"
  },
  "language_info": {
   "codemirror_mode": {
    "name": "ipython",
    "version": 3
   },
   "file_extension": ".py",
   "mimetype": "text/x-python",
   "name": "python",
   "nbconvert_exporter": "python",
   "pygments_lexer": "ipython3",
   "version": "3.11.9"
  }
 },
 "nbformat": 4,
 "nbformat_minor": 2
}
